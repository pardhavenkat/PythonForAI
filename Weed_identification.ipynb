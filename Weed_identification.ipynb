{
  "nbformat": 4,
  "nbformat_minor": 0,
  "metadata": {
    "kernelspec": {
      "display_name": "Python 3",
      "language": "python",
      "name": "python3"
    },
    "language_info": {
      "codemirror_mode": {
        "name": "ipython",
        "version": 3
      },
      "file_extension": ".py",
      "mimetype": "text/x-python",
      "name": "python",
      "nbconvert_exporter": "python",
      "pygments_lexer": "ipython3",
      "version": "3.7.3"
    },
    "colab": {
      "provenance": [],
      "include_colab_link": true
    },
    "accelerator": "GPU"
  },
  "cells": [
    {
      "cell_type": "markdown",
      "metadata": {
        "id": "view-in-github",
        "colab_type": "text"
      },
      "source": [
        "<a href=\"https://colab.research.google.com/github/pardhavenkat/PythonForAI/blob/main/Weed_identification.ipynb\" target=\"_parent\"><img src=\"https://colab.research.google.com/assets/colab-badge.svg\" alt=\"Open In Colab\"/></a>"
      ]
    },
    {
      "cell_type": "code",
      "metadata": {
        "id": "gxliHgvY9jVm",
        "colab": {
          "base_uri": "https://localhost:8080/"
        },
        "outputId": "db9d21e0-6b96-49ae-fb4d-23cc6d82b7a8"
      },
      "source": [
        "\n",
        "from google.colab import drive\n",
        "drive.mount('/content/drive/')"
      ],
      "execution_count": 1,
      "outputs": [
        {
          "output_type": "stream",
          "name": "stdout",
          "text": [
            "Mounted at /content/drive/\n"
          ]
        }
      ]
    },
    {
      "cell_type": "code",
      "metadata": {
        "id": "jEzIKsTD9jVq",
        "colab": {
          "base_uri": "https://localhost:8080/"
        },
        "outputId": "2d6e8d9a-ed0c-4739-8ded-5e7191885b48"
      },
      "source": [
        "import os\n",
        "X_train = []\n",
        "y_train = []                                                                                                                                                                                                                                               \n",
        "import cv2\n",
        "for i in os.listdir('/content/drive/My Drive/Student Projects/train'):\n",
        "    print(i)\n",
        "    if (os.path.isdir('/content/drive/My Drive/Student Projects/train/' + i)):\n",
        "        for j in os.listdir('/content/drive/My Drive/Student Projects/train/' + i):\n",
        "            try:\n",
        "                dummy = cv2.imread('/content/drive/My Drive/Student Projects/train/' + i + '/' + j)\n",
        "                dummy = cv2.resize(dummy,(128,128))\n",
        "                X_train.append(dummy)\n",
        "                y_train.append(i)\n",
        "            except Exception as e:\n",
        "                print(e)"
      ],
      "execution_count": 73,
      "outputs": [
        {
          "output_type": "stream",
          "name": "stdout",
          "text": [
            "CELOSIA ARGENTEA L\n",
            "PURPLE CHLORIS\n",
            "CROWFOOT GRASS\n"
          ]
        }
      ]
    },
    {
      "cell_type": "code",
      "metadata": {
        "id": "9JbuIBbL9jVs"
      },
      "source": [
        "import numpy as np\n",
        "X_train1 = np.array(X_train)\n",
        "y_train1 = np.array(y_train)"
      ],
      "execution_count": 74,
      "outputs": []
    },
    {
      "cell_type": "code",
      "metadata": {
        "id": "_ef0bf4X9jVx"
      },
      "source": [
        "from sklearn.preprocessing import LabelEncoder\n",
        "lenc = LabelEncoder()\n",
        "y_train2 = lenc.fit_transform(y_train1)\n",
        "import tensorflow as tf\n",
        "y_train1 = tf.keras.utils.to_categorical(y_train2)"
      ],
      "execution_count": 75,
      "outputs": []
    },
    {
      "cell_type": "code",
      "metadata": {
        "id": "v6WfrU37FHW1"
      },
      "source": [
        "from sklearn.model_selection import train_test_split\n",
        "x_tr,x_vl,y_tr,y_vl = train_test_split(X_train1,y_train1)"
      ],
      "execution_count": 76,
      "outputs": []
    },
    {
      "cell_type": "code",
      "metadata": {
        "id": "JMeyt0CU9jV0"
      },
      "source": [
        "X_test = []\n",
        "import cv2\n",
        "for i in os.listdir('/content/drive/My Drive/Student Projects/test'):\n",
        "    dummy = cv2.imread('/content/drive/My Drive/Student Projects/test/' + i)\n",
        "    dummy = cv2.resize(dummy, (128,128))\n",
        "    X_test.append(dummy)"
      ],
      "execution_count": 77,
      "outputs": []
    },
    {
      "cell_type": "code",
      "metadata": {
        "id": "q1SucFSxVQtV"
      },
      "source": [
        "X_test1 = np.array(X_test)"
      ],
      "execution_count": 78,
      "outputs": []
    },
    {
      "cell_type": "code",
      "metadata": {
        "id": "uNukw7O49jV2"
      },
      "source": [
        "from tensorflow.keras import layers\n",
        "from tensorflow.keras.models import Sequential\n",
        "model = Sequential()"
      ],
      "execution_count": 79,
      "outputs": []
    },
    {
      "cell_type": "code",
      "metadata": {
        "id": "JXV9V2019jV4"
      },
      "source": [
        "\n",
        "model.add(layers.Flatten())\n",
        "model.add(layers.BatchNormalization())\n",
        "model.add(layers.Dense(256,activation='relu'))\n",
        "model.add(layers.Dropout(0.4))\n",
        "model.add(layers.Dense(3,activation='softmax'))"
      ],
      "execution_count": 80,
      "outputs": []
    },
    {
      "cell_type": "code",
      "source": [
        "model.compile(optimizer='adam',loss='categorical_crossentropy',metrics=['accuracy'])"
      ],
      "metadata": {
        "id": "ue_VGTFL4vhy"
      },
      "execution_count": 81,
      "outputs": []
    },
    {
      "cell_type": "code",
      "metadata": {
        "id": "hpVYXLJi9jV8",
        "colab": {
          "base_uri": "https://localhost:8080/"
        },
        "outputId": "a93263b1-1d0b-43c4-aa78-f29fccf0ce75"
      },
      "source": [
        "model.fit(X_train1,y_train1,epochs=104,batch_size=100)"
      ],
      "execution_count": 82,
      "outputs": [
        {
          "output_type": "stream",
          "name": "stdout",
          "text": [
            "Epoch 1/104\n",
            "2/2 [==============================] - 1s 17ms/step - loss: 14.7530 - accuracy: 0.3660\n",
            "Epoch 2/104\n",
            "2/2 [==============================] - 0s 16ms/step - loss: 20.7674 - accuracy: 0.5979\n",
            "Epoch 3/104\n",
            "2/2 [==============================] - 0s 17ms/step - loss: 13.8444 - accuracy: 0.7268\n",
            "Epoch 4/104\n",
            "2/2 [==============================] - 0s 16ms/step - loss: 7.0648 - accuracy: 0.8454\n",
            "Epoch 5/104\n",
            "2/2 [==============================] - 0s 16ms/step - loss: 6.7999 - accuracy: 0.8247\n",
            "Epoch 6/104\n",
            "2/2 [==============================] - 0s 15ms/step - loss: 5.4885 - accuracy: 0.8557\n",
            "Epoch 7/104\n",
            "2/2 [==============================] - 0s 16ms/step - loss: 4.6013 - accuracy: 0.8711\n",
            "Epoch 8/104\n",
            "2/2 [==============================] - 0s 15ms/step - loss: 4.6522 - accuracy: 0.9175\n",
            "Epoch 9/104\n",
            "2/2 [==============================] - 0s 15ms/step - loss: 1.8857 - accuracy: 0.9381\n",
            "Epoch 10/104\n",
            "2/2 [==============================] - 0s 15ms/step - loss: 1.7283 - accuracy: 0.9227\n",
            "Epoch 11/104\n",
            "2/2 [==============================] - 0s 21ms/step - loss: 1.3767 - accuracy: 0.9485\n",
            "Epoch 12/104\n",
            "2/2 [==============================] - 0s 15ms/step - loss: 0.8360 - accuracy: 0.9742\n",
            "Epoch 13/104\n",
            "2/2 [==============================] - 0s 15ms/step - loss: 1.5649 - accuracy: 0.9588\n",
            "Epoch 14/104\n",
            "2/2 [==============================] - 0s 15ms/step - loss: 1.3342 - accuracy: 0.9639\n",
            "Epoch 15/104\n",
            "2/2 [==============================] - 0s 15ms/step - loss: 0.9959 - accuracy: 0.9639\n",
            "Epoch 16/104\n",
            "2/2 [==============================] - 0s 16ms/step - loss: 0.6268 - accuracy: 0.9794\n",
            "Epoch 17/104\n",
            "2/2 [==============================] - 0s 16ms/step - loss: 1.1656 - accuracy: 0.9845\n",
            "Epoch 18/104\n",
            "2/2 [==============================] - 0s 15ms/step - loss: 0.9091 - accuracy: 0.9742\n",
            "Epoch 19/104\n",
            "2/2 [==============================] - 0s 17ms/step - loss: 0.2785 - accuracy: 0.9948\n",
            "Epoch 20/104\n",
            "2/2 [==============================] - 0s 15ms/step - loss: 0.7753 - accuracy: 0.9794\n",
            "Epoch 21/104\n",
            "2/2 [==============================] - 0s 17ms/step - loss: 0.8349 - accuracy: 0.9536\n",
            "Epoch 22/104\n",
            "2/2 [==============================] - 0s 16ms/step - loss: 0.5790 - accuracy: 0.9794\n",
            "Epoch 23/104\n",
            "2/2 [==============================] - 0s 15ms/step - loss: 1.0014 - accuracy: 0.9691\n",
            "Epoch 24/104\n",
            "2/2 [==============================] - 0s 16ms/step - loss: 0.3124 - accuracy: 0.9845\n",
            "Epoch 25/104\n",
            "2/2 [==============================] - 0s 16ms/step - loss: 0.7822 - accuracy: 0.9691\n",
            "Epoch 26/104\n",
            "2/2 [==============================] - 0s 15ms/step - loss: 0.1290 - accuracy: 0.9897\n",
            "Epoch 27/104\n",
            "2/2 [==============================] - 0s 16ms/step - loss: 0.3065 - accuracy: 0.9897\n",
            "Epoch 28/104\n",
            "2/2 [==============================] - 0s 16ms/step - loss: 0.1117 - accuracy: 0.9897\n",
            "Epoch 29/104\n",
            "2/2 [==============================] - 0s 15ms/step - loss: 0.3197 - accuracy: 0.9845\n",
            "Epoch 30/104\n",
            "2/2 [==============================] - 0s 20ms/step - loss: 0.6212 - accuracy: 0.9845\n",
            "Epoch 31/104\n",
            "2/2 [==============================] - 0s 15ms/step - loss: 0.7528 - accuracy: 0.9794\n",
            "Epoch 32/104\n",
            "2/2 [==============================] - 0s 15ms/step - loss: 0.8770 - accuracy: 0.9897\n",
            "Epoch 33/104\n",
            "2/2 [==============================] - 0s 14ms/step - loss: 0.6874 - accuracy: 0.9845\n",
            "Epoch 34/104\n",
            "2/2 [==============================] - 0s 15ms/step - loss: 0.1397 - accuracy: 0.9948\n",
            "Epoch 35/104\n",
            "2/2 [==============================] - 0s 15ms/step - loss: 0.9643 - accuracy: 0.9742\n",
            "Epoch 36/104\n",
            "2/2 [==============================] - 0s 15ms/step - loss: 0.5090 - accuracy: 0.9897\n",
            "Epoch 37/104\n",
            "2/2 [==============================] - 0s 14ms/step - loss: 0.4296 - accuracy: 0.9948\n",
            "Epoch 38/104\n",
            "2/2 [==============================] - 0s 16ms/step - loss: 0.1557 - accuracy: 0.9845\n",
            "Epoch 39/104\n",
            "2/2 [==============================] - 0s 15ms/step - loss: 1.6767 - accuracy: 0.9742\n",
            "Epoch 40/104\n",
            "2/2 [==============================] - 0s 16ms/step - loss: 0.8374 - accuracy: 0.9897\n",
            "Epoch 41/104\n",
            "2/2 [==============================] - 0s 15ms/step - loss: 0.1993 - accuracy: 0.9948\n",
            "Epoch 42/104\n",
            "2/2 [==============================] - 0s 15ms/step - loss: 0.4660 - accuracy: 0.9794\n",
            "Epoch 43/104\n",
            "2/2 [==============================] - 0s 15ms/step - loss: 0.2472 - accuracy: 0.9794\n",
            "Epoch 44/104\n",
            "2/2 [==============================] - 0s 15ms/step - loss: 1.7525 - accuracy: 0.9536\n",
            "Epoch 45/104\n",
            "2/2 [==============================] - 0s 16ms/step - loss: 0.6899 - accuracy: 0.9742\n",
            "Epoch 46/104\n",
            "2/2 [==============================] - 0s 16ms/step - loss: 0.0441 - accuracy: 0.9948\n",
            "Epoch 47/104\n",
            "2/2 [==============================] - 0s 17ms/step - loss: 0.1718 - accuracy: 0.9948\n",
            "Epoch 48/104\n",
            "2/2 [==============================] - 0s 15ms/step - loss: 0.2661 - accuracy: 0.9897\n",
            "Epoch 49/104\n",
            "2/2 [==============================] - 0s 15ms/step - loss: 0.5950 - accuracy: 0.9845\n",
            "Epoch 50/104\n",
            "2/2 [==============================] - 0s 15ms/step - loss: 0.0081 - accuracy: 0.9948\n",
            "Epoch 51/104\n",
            "2/2 [==============================] - 0s 15ms/step - loss: 0.4525 - accuracy: 0.9845\n",
            "Epoch 52/104\n",
            "2/2 [==============================] - 0s 15ms/step - loss: 0.0990 - accuracy: 0.9948\n",
            "Epoch 53/104\n",
            "2/2 [==============================] - 0s 16ms/step - loss: 0.6923 - accuracy: 0.9897\n",
            "Epoch 54/104\n",
            "2/2 [==============================] - 0s 17ms/step - loss: 1.1456 - accuracy: 0.9897\n",
            "Epoch 55/104\n",
            "2/2 [==============================] - 0s 16ms/step - loss: 0.2989 - accuracy: 0.9845\n",
            "Epoch 56/104\n",
            "2/2 [==============================] - 0s 15ms/step - loss: 0.3612 - accuracy: 0.9897\n",
            "Epoch 57/104\n",
            "2/2 [==============================] - 0s 16ms/step - loss: 0.3921 - accuracy: 0.9948\n",
            "Epoch 58/104\n",
            "2/2 [==============================] - 0s 15ms/step - loss: 0.4468 - accuracy: 0.9897\n",
            "Epoch 59/104\n",
            "2/2 [==============================] - 0s 15ms/step - loss: 0.7454 - accuracy: 0.9897\n",
            "Epoch 60/104\n",
            "2/2 [==============================] - 0s 15ms/step - loss: 0.2796 - accuracy: 0.9897\n",
            "Epoch 61/104\n",
            "2/2 [==============================] - 0s 21ms/step - loss: 0.0619 - accuracy: 0.9897\n",
            "Epoch 62/104\n",
            "2/2 [==============================] - 0s 15ms/step - loss: 7.2202e-06 - accuracy: 1.0000\n",
            "Epoch 63/104\n",
            "2/2 [==============================] - 0s 15ms/step - loss: 0.5801 - accuracy: 0.9845\n",
            "Epoch 64/104\n",
            "2/2 [==============================] - 0s 15ms/step - loss: 0.5022 - accuracy: 0.9845\n",
            "Epoch 65/104\n",
            "2/2 [==============================] - 0s 15ms/step - loss: 0.4507 - accuracy: 0.9845\n",
            "Epoch 66/104\n",
            "2/2 [==============================] - 0s 15ms/step - loss: 0.7091 - accuracy: 0.9794\n",
            "Epoch 67/104\n",
            "2/2 [==============================] - 0s 15ms/step - loss: 0.5726 - accuracy: 0.9845\n",
            "Epoch 68/104\n",
            "2/2 [==============================] - 0s 20ms/step - loss: 0.2406 - accuracy: 0.9845\n",
            "Epoch 69/104\n",
            "2/2 [==============================] - 0s 16ms/step - loss: 0.3161 - accuracy: 0.9897\n",
            "Epoch 70/104\n",
            "2/2 [==============================] - 0s 20ms/step - loss: 0.3870 - accuracy: 0.9845\n",
            "Epoch 71/104\n",
            "2/2 [==============================] - 0s 18ms/step - loss: 0.1944 - accuracy: 0.9845\n",
            "Epoch 72/104\n",
            "2/2 [==============================] - 0s 15ms/step - loss: 0.0013 - accuracy: 1.0000\n",
            "Epoch 73/104\n",
            "2/2 [==============================] - 0s 15ms/step - loss: 0.4279 - accuracy: 0.9742\n",
            "Epoch 74/104\n",
            "2/2 [==============================] - 0s 16ms/step - loss: 0.4849 - accuracy: 0.9845\n",
            "Epoch 75/104\n",
            "2/2 [==============================] - 0s 16ms/step - loss: 0.3416 - accuracy: 0.9794\n",
            "Epoch 76/104\n",
            "2/2 [==============================] - 0s 15ms/step - loss: 0.1985 - accuracy: 0.9948\n",
            "Epoch 77/104\n",
            "2/2 [==============================] - 0s 15ms/step - loss: 0.3917 - accuracy: 0.9897\n",
            "Epoch 78/104\n",
            "2/2 [==============================] - 0s 16ms/step - loss: 1.5530 - accuracy: 0.9536\n",
            "Epoch 79/104\n",
            "2/2 [==============================] - 0s 15ms/step - loss: 0.8867 - accuracy: 0.9897\n",
            "Epoch 80/104\n",
            "2/2 [==============================] - 0s 16ms/step - loss: 0.2178 - accuracy: 0.9948\n",
            "Epoch 81/104\n",
            "2/2 [==============================] - 0s 16ms/step - loss: 0.1959 - accuracy: 0.9897\n",
            "Epoch 82/104\n",
            "2/2 [==============================] - 0s 15ms/step - loss: 0.3704 - accuracy: 0.9845\n",
            "Epoch 83/104\n",
            "2/2 [==============================] - 0s 15ms/step - loss: 0.3871 - accuracy: 0.9845\n",
            "Epoch 84/104\n",
            "2/2 [==============================] - 0s 16ms/step - loss: 0.7572 - accuracy: 0.9742\n",
            "Epoch 85/104\n",
            "2/2 [==============================] - 0s 15ms/step - loss: 0.3310 - accuracy: 0.9948\n",
            "Epoch 86/104\n",
            "2/2 [==============================] - 0s 15ms/step - loss: 0.1405 - accuracy: 0.9897\n",
            "Epoch 87/104\n",
            "2/2 [==============================] - 0s 22ms/step - loss: 1.8756 - accuracy: 0.9433\n",
            "Epoch 88/104\n",
            "2/2 [==============================] - 0s 15ms/step - loss: 0.7703 - accuracy: 0.9742\n",
            "Epoch 89/104\n",
            "2/2 [==============================] - 0s 15ms/step - loss: 0.3504 - accuracy: 0.9845\n",
            "Epoch 90/104\n",
            "2/2 [==============================] - 0s 15ms/step - loss: 0.2099 - accuracy: 0.9845\n",
            "Epoch 91/104\n",
            "2/2 [==============================] - 0s 15ms/step - loss: 1.2190 - accuracy: 0.9639\n",
            "Epoch 92/104\n",
            "2/2 [==============================] - 0s 15ms/step - loss: 1.3205 - accuracy: 0.9691\n",
            "Epoch 93/104\n",
            "2/2 [==============================] - 0s 15ms/step - loss: 0.1143 - accuracy: 0.9897\n",
            "Epoch 94/104\n",
            "2/2 [==============================] - 0s 15ms/step - loss: 0.9249 - accuracy: 0.9691\n",
            "Epoch 95/104\n",
            "2/2 [==============================] - 0s 16ms/step - loss: 1.4729 - accuracy: 0.9588\n",
            "Epoch 96/104\n",
            "2/2 [==============================] - 0s 15ms/step - loss: 0.8242 - accuracy: 0.9742\n",
            "Epoch 97/104\n",
            "2/2 [==============================] - 0s 15ms/step - loss: 0.3316 - accuracy: 0.9897\n",
            "Epoch 98/104\n",
            "2/2 [==============================] - 0s 15ms/step - loss: 0.2648 - accuracy: 0.9897\n",
            "Epoch 99/104\n",
            "2/2 [==============================] - 0s 16ms/step - loss: 0.3442 - accuracy: 0.9691\n",
            "Epoch 100/104\n",
            "2/2 [==============================] - 0s 21ms/step - loss: 0.3171 - accuracy: 0.9794\n",
            "Epoch 101/104\n",
            "2/2 [==============================] - 0s 15ms/step - loss: 0.5598 - accuracy: 0.9897\n",
            "Epoch 102/104\n",
            "2/2 [==============================] - 0s 16ms/step - loss: 0.0897 - accuracy: 0.9897\n",
            "Epoch 103/104\n",
            "2/2 [==============================] - 0s 15ms/step - loss: 0.1497 - accuracy: 0.9845\n",
            "Epoch 104/104\n",
            "2/2 [==============================] - 0s 15ms/step - loss: 0.7858 - accuracy: 0.9897\n"
          ]
        },
        {
          "output_type": "execute_result",
          "data": {
            "text/plain": [
              "<keras.callbacks.History at 0x7f9fb00891f0>"
            ]
          },
          "metadata": {},
          "execution_count": 82
        }
      ]
    },
    {
      "cell_type": "code",
      "metadata": {
        "id": "lW5HTxyHFc9z",
        "colab": {
          "base_uri": "https://localhost:8080/"
        },
        "outputId": "c5758f0e-01a3-4c83-9def-5a31210f11fa"
      },
      "source": [
        "model.fit(x_tr,y_tr,validation_data=(x_vl,y_vl),epochs=104,batch_size=100)"
      ],
      "execution_count": 83,
      "outputs": [
        {
          "output_type": "stream",
          "name": "stdout",
          "text": [
            "Epoch 1/104\n",
            "2/2 [==============================] - 0s 265ms/step - loss: 0.3951 - accuracy: 0.9793 - val_loss: 1.4524 - val_accuracy: 0.9388\n",
            "Epoch 2/104\n",
            "2/2 [==============================] - 0s 52ms/step - loss: 0.2780 - accuracy: 0.9862 - val_loss: 1.5910 - val_accuracy: 0.9388\n",
            "Epoch 3/104\n",
            "2/2 [==============================] - 0s 62ms/step - loss: 1.5780 - accuracy: 0.9517 - val_loss: 0.4466 - val_accuracy: 0.9796\n",
            "Epoch 4/104\n",
            "2/2 [==============================] - 0s 46ms/step - loss: 0.0251 - accuracy: 0.9862 - val_loss: 0.0000e+00 - val_accuracy: 1.0000\n",
            "Epoch 5/104\n",
            "2/2 [==============================] - 0s 48ms/step - loss: 0.2072 - accuracy: 0.9862 - val_loss: 0.0000e+00 - val_accuracy: 1.0000\n",
            "Epoch 6/104\n",
            "2/2 [==============================] - 0s 51ms/step - loss: 0.8123 - accuracy: 0.9793 - val_loss: 0.0000e+00 - val_accuracy: 1.0000\n",
            "Epoch 7/104\n",
            "2/2 [==============================] - 0s 62ms/step - loss: 2.4184 - accuracy: 0.9724 - val_loss: 0.0000e+00 - val_accuracy: 1.0000\n",
            "Epoch 8/104\n",
            "2/2 [==============================] - 0s 66ms/step - loss: 0.3130 - accuracy: 0.9862 - val_loss: 0.2475 - val_accuracy: 0.9796\n",
            "Epoch 9/104\n",
            "2/2 [==============================] - 0s 71ms/step - loss: 1.6141 - accuracy: 0.9586 - val_loss: 1.5957 - val_accuracy: 0.9388\n",
            "Epoch 10/104\n",
            "2/2 [==============================] - 0s 65ms/step - loss: 0.1620 - accuracy: 0.9931 - val_loss: 2.1508 - val_accuracy: 0.9388\n",
            "Epoch 11/104\n",
            "2/2 [==============================] - 0s 54ms/step - loss: 0.0857 - accuracy: 0.9793 - val_loss: 2.3454 - val_accuracy: 0.9388\n",
            "Epoch 12/104\n",
            "2/2 [==============================] - 0s 51ms/step - loss: 0.4830 - accuracy: 0.9793 - val_loss: 2.1018 - val_accuracy: 0.9184\n",
            "Epoch 13/104\n",
            "2/2 [==============================] - 0s 64ms/step - loss: 1.5914 - accuracy: 0.9862 - val_loss: 1.8168 - val_accuracy: 0.8980\n",
            "Epoch 14/104\n",
            "2/2 [==============================] - 0s 60ms/step - loss: 0.6868 - accuracy: 0.9724 - val_loss: 1.6078 - val_accuracy: 0.8980\n",
            "Epoch 15/104\n",
            "2/2 [==============================] - 0s 68ms/step - loss: 1.1870 - accuracy: 0.9517 - val_loss: 1.5344 - val_accuracy: 0.9184\n",
            "Epoch 16/104\n",
            "2/2 [==============================] - 0s 53ms/step - loss: 0.0492 - accuracy: 0.9931 - val_loss: 1.0838 - val_accuracy: 0.9388\n",
            "Epoch 17/104\n",
            "2/2 [==============================] - 0s 50ms/step - loss: 0.5967 - accuracy: 0.9724 - val_loss: 1.1566 - val_accuracy: 0.9388\n",
            "Epoch 18/104\n",
            "2/2 [==============================] - 0s 66ms/step - loss: 0.6247 - accuracy: 0.9862 - val_loss: 1.0509 - val_accuracy: 0.9184\n",
            "Epoch 19/104\n",
            "2/2 [==============================] - 0s 50ms/step - loss: 1.0724 - accuracy: 0.9724 - val_loss: 0.6302 - val_accuracy: 0.9388\n",
            "Epoch 20/104\n",
            "2/2 [==============================] - 0s 56ms/step - loss: 1.8045 - accuracy: 0.9724 - val_loss: 0.1265 - val_accuracy: 0.9592\n",
            "Epoch 21/104\n",
            "2/2 [==============================] - 0s 68ms/step - loss: 0.4279 - accuracy: 0.9862 - val_loss: 0.0250 - val_accuracy: 0.9796\n",
            "Epoch 22/104\n",
            "2/2 [==============================] - 0s 55ms/step - loss: 0.5929 - accuracy: 0.9862 - val_loss: 4.2182e-04 - val_accuracy: 1.0000\n",
            "Epoch 23/104\n",
            "2/2 [==============================] - 0s 52ms/step - loss: 0.5709 - accuracy: 0.9862 - val_loss: 3.9655e-07 - val_accuracy: 1.0000\n",
            "Epoch 24/104\n",
            "2/2 [==============================] - 0s 65ms/step - loss: 3.5762e-07 - accuracy: 1.0000 - val_loss: 0.0000e+00 - val_accuracy: 1.0000\n",
            "Epoch 25/104\n",
            "2/2 [==============================] - 0s 57ms/step - loss: 0.1775 - accuracy: 0.9793 - val_loss: 0.0000e+00 - val_accuracy: 1.0000\n",
            "Epoch 26/104\n",
            "2/2 [==============================] - 0s 59ms/step - loss: 0.2905 - accuracy: 0.9862 - val_loss: 0.0000e+00 - val_accuracy: 1.0000\n",
            "Epoch 27/104\n",
            "2/2 [==============================] - 0s 40ms/step - loss: 0.2605 - accuracy: 0.9793 - val_loss: 0.0000e+00 - val_accuracy: 1.0000\n",
            "Epoch 28/104\n",
            "2/2 [==============================] - 0s 57ms/step - loss: 0.5537 - accuracy: 0.9793 - val_loss: 1.4354e-07 - val_accuracy: 1.0000\n",
            "Epoch 29/104\n",
            "2/2 [==============================] - 0s 36ms/step - loss: 0.2180 - accuracy: 0.9931 - val_loss: 0.0366 - val_accuracy: 0.9796\n",
            "Epoch 30/104\n",
            "2/2 [==============================] - 0s 39ms/step - loss: 0.2199 - accuracy: 0.9862 - val_loss: 0.3532 - val_accuracy: 0.9592\n",
            "Epoch 31/104\n",
            "2/2 [==============================] - 0s 39ms/step - loss: 0.0000e+00 - accuracy: 1.0000 - val_loss: 1.1588 - val_accuracy: 0.9592\n",
            "Epoch 32/104\n",
            "2/2 [==============================] - 0s 37ms/step - loss: 0.1458 - accuracy: 0.9931 - val_loss: 1.6693 - val_accuracy: 0.9592\n",
            "Epoch 33/104\n",
            "2/2 [==============================] - 0s 37ms/step - loss: 0.1541 - accuracy: 0.9931 - val_loss: 2.7705 - val_accuracy: 0.9388\n",
            "Epoch 34/104\n",
            "2/2 [==============================] - 0s 43ms/step - loss: 2.2707 - accuracy: 0.9655 - val_loss: 0.8980 - val_accuracy: 0.9592\n",
            "Epoch 35/104\n",
            "2/2 [==============================] - 0s 37ms/step - loss: 0.1709 - accuracy: 0.9931 - val_loss: 0.1125 - val_accuracy: 0.9796\n",
            "Epoch 36/104\n",
            "2/2 [==============================] - 0s 37ms/step - loss: 0.6122 - accuracy: 0.9793 - val_loss: 2.4328e-09 - val_accuracy: 1.0000\n",
            "Epoch 37/104\n",
            "2/2 [==============================] - 0s 40ms/step - loss: 0.9774 - accuracy: 0.9793 - val_loss: 1.5017 - val_accuracy: 0.9796\n",
            "Epoch 38/104\n",
            "2/2 [==============================] - 0s 37ms/step - loss: 1.9847 - accuracy: 0.9655 - val_loss: 1.2559 - val_accuracy: 0.9796\n",
            "Epoch 39/104\n",
            "2/2 [==============================] - 0s 44ms/step - loss: 1.4597 - accuracy: 0.9793 - val_loss: 0.0000e+00 - val_accuracy: 1.0000\n",
            "Epoch 40/104\n",
            "2/2 [==============================] - 0s 37ms/step - loss: 0.9305 - accuracy: 0.9862 - val_loss: 0.1830 - val_accuracy: 0.9796\n",
            "Epoch 41/104\n",
            "2/2 [==============================] - 0s 52ms/step - loss: 0.7359 - accuracy: 0.9931 - val_loss: 7.7852 - val_accuracy: 0.8980\n",
            "Epoch 42/104\n",
            "2/2 [==============================] - 0s 37ms/step - loss: 3.4584 - accuracy: 0.9379 - val_loss: 8.7310 - val_accuracy: 0.8980\n",
            "Epoch 43/104\n",
            "2/2 [==============================] - 0s 42ms/step - loss: 2.6919 - accuracy: 0.9655 - val_loss: 1.7011 - val_accuracy: 0.9388\n",
            "Epoch 44/104\n",
            "2/2 [==============================] - 0s 38ms/step - loss: 1.2690 - accuracy: 0.9655 - val_loss: 4.4899 - val_accuracy: 0.9388\n",
            "Epoch 45/104\n",
            "2/2 [==============================] - 0s 36ms/step - loss: 0.5134 - accuracy: 0.9793 - val_loss: 6.7890 - val_accuracy: 0.9184\n",
            "Epoch 46/104\n",
            "2/2 [==============================] - 0s 36ms/step - loss: 0.3610 - accuracy: 0.9862 - val_loss: 6.8219 - val_accuracy: 0.9184\n",
            "Epoch 47/104\n",
            "2/2 [==============================] - 0s 52ms/step - loss: 0.4063 - accuracy: 0.9862 - val_loss: 5.1159 - val_accuracy: 0.9184\n",
            "Epoch 48/104\n",
            "2/2 [==============================] - 0s 36ms/step - loss: 1.2017 - accuracy: 0.9655 - val_loss: 4.2009 - val_accuracy: 0.9592\n",
            "Epoch 49/104\n",
            "2/2 [==============================] - 0s 36ms/step - loss: 0.5514 - accuracy: 0.9862 - val_loss: 2.4955 - val_accuracy: 0.9592\n",
            "Epoch 50/104\n",
            "2/2 [==============================] - 0s 36ms/step - loss: 3.5571 - accuracy: 0.9793 - val_loss: 0.6139 - val_accuracy: 0.9592\n",
            "Epoch 51/104\n",
            "2/2 [==============================] - 0s 55ms/step - loss: 0.5963 - accuracy: 0.9931 - val_loss: 0.8175 - val_accuracy: 0.9796\n",
            "Epoch 52/104\n",
            "2/2 [==============================] - 0s 42ms/step - loss: 0.6028 - accuracy: 0.9724 - val_loss: 0.8742 - val_accuracy: 0.9796\n",
            "Epoch 53/104\n",
            "2/2 [==============================] - 0s 56ms/step - loss: 0.0019 - accuracy: 1.0000 - val_loss: 1.6526 - val_accuracy: 0.9184\n",
            "Epoch 54/104\n",
            "2/2 [==============================] - 0s 37ms/step - loss: 0.3148 - accuracy: 0.9862 - val_loss: 1.8833 - val_accuracy: 0.9184\n",
            "Epoch 55/104\n",
            "2/2 [==============================] - 0s 38ms/step - loss: 0.5784 - accuracy: 0.9793 - val_loss: 1.1715 - val_accuracy: 0.9388\n",
            "Epoch 56/104\n",
            "2/2 [==============================] - 0s 39ms/step - loss: 0.2028 - accuracy: 0.9862 - val_loss: 1.0385 - val_accuracy: 0.9388\n",
            "Epoch 57/104\n",
            "2/2 [==============================] - 0s 35ms/step - loss: 0.3141 - accuracy: 0.9793 - val_loss: 1.9117 - val_accuracy: 0.8980\n",
            "Epoch 58/104\n",
            "2/2 [==============================] - 0s 37ms/step - loss: 0.4888 - accuracy: 0.9931 - val_loss: 5.9861 - val_accuracy: 0.8776\n",
            "Epoch 59/104\n",
            "2/2 [==============================] - 0s 40ms/step - loss: 1.3427 - accuracy: 0.9724 - val_loss: 5.8508 - val_accuracy: 0.9184\n",
            "Epoch 60/104\n",
            "2/2 [==============================] - 0s 38ms/step - loss: 0.5315 - accuracy: 0.9931 - val_loss: 5.5970 - val_accuracy: 0.8980\n",
            "Epoch 61/104\n",
            "2/2 [==============================] - 0s 36ms/step - loss: 1.6019 - accuracy: 0.9793 - val_loss: 3.8967 - val_accuracy: 0.9184\n",
            "Epoch 62/104\n",
            "2/2 [==============================] - 0s 37ms/step - loss: 0.0000e+00 - accuracy: 1.0000 - val_loss: 3.4261 - val_accuracy: 0.9184\n",
            "Epoch 63/104\n",
            "2/2 [==============================] - 0s 37ms/step - loss: 0.2972 - accuracy: 0.9862 - val_loss: 2.8704 - val_accuracy: 0.9388\n",
            "Epoch 64/104\n",
            "2/2 [==============================] - 0s 39ms/step - loss: 0.0243 - accuracy: 0.9931 - val_loss: 3.4241 - val_accuracy: 0.9184\n",
            "Epoch 65/104\n",
            "2/2 [==============================] - 0s 37ms/step - loss: 0.1953 - accuracy: 0.9931 - val_loss: 3.3499 - val_accuracy: 0.9184\n",
            "Epoch 66/104\n",
            "2/2 [==============================] - 0s 37ms/step - loss: 0.3669 - accuracy: 0.9931 - val_loss: 3.5428 - val_accuracy: 0.9388\n",
            "Epoch 67/104\n",
            "2/2 [==============================] - 0s 52ms/step - loss: 1.7211 - accuracy: 0.9862 - val_loss: 3.5278 - val_accuracy: 0.9184\n",
            "Epoch 68/104\n",
            "2/2 [==============================] - 0s 38ms/step - loss: 0.1516 - accuracy: 0.9793 - val_loss: 3.2572 - val_accuracy: 0.8980\n",
            "Epoch 69/104\n",
            "2/2 [==============================] - 0s 37ms/step - loss: 0.3268 - accuracy: 0.9931 - val_loss: 3.7379 - val_accuracy: 0.8776\n",
            "Epoch 70/104\n",
            "2/2 [==============================] - 0s 47ms/step - loss: 0.0585 - accuracy: 0.9862 - val_loss: 4.5867 - val_accuracy: 0.8980\n",
            "Epoch 71/104\n",
            "2/2 [==============================] - 0s 37ms/step - loss: 0.2405 - accuracy: 0.9931 - val_loss: 5.3663 - val_accuracy: 0.9184\n",
            "Epoch 72/104\n",
            "2/2 [==============================] - 0s 38ms/step - loss: 0.0019 - accuracy: 1.0000 - val_loss: 5.9710 - val_accuracy: 0.9184\n",
            "Epoch 73/104\n",
            "2/2 [==============================] - 0s 37ms/step - loss: 1.3627 - accuracy: 0.9793 - val_loss: 6.9982 - val_accuracy: 0.9184\n",
            "Epoch 74/104\n",
            "2/2 [==============================] - 0s 37ms/step - loss: 0.4420 - accuracy: 0.9931 - val_loss: 7.9196 - val_accuracy: 0.8980\n",
            "Epoch 75/104\n",
            "2/2 [==============================] - 0s 37ms/step - loss: 0.5530 - accuracy: 0.9793 - val_loss: 8.1036 - val_accuracy: 0.8776\n",
            "Epoch 76/104\n",
            "2/2 [==============================] - 0s 39ms/step - loss: 0.5357 - accuracy: 0.9793 - val_loss: 7.3482 - val_accuracy: 0.8571\n",
            "Epoch 77/104\n",
            "2/2 [==============================] - 0s 38ms/step - loss: 0.3462 - accuracy: 0.9931 - val_loss: 7.1199 - val_accuracy: 0.8980\n",
            "Epoch 78/104\n",
            "2/2 [==============================] - 0s 37ms/step - loss: 0.1858 - accuracy: 0.9862 - val_loss: 7.1491 - val_accuracy: 0.8980\n",
            "Epoch 79/104\n",
            "2/2 [==============================] - 0s 47ms/step - loss: 0.1186 - accuracy: 0.9931 - val_loss: 7.4000 - val_accuracy: 0.8776\n",
            "Epoch 80/104\n",
            "2/2 [==============================] - 0s 38ms/step - loss: 0.3743 - accuracy: 0.9931 - val_loss: 7.4625 - val_accuracy: 0.8776\n",
            "Epoch 81/104\n",
            "2/2 [==============================] - 0s 38ms/step - loss: 0.0378 - accuracy: 0.9931 - val_loss: 7.5412 - val_accuracy: 0.8571\n",
            "Epoch 82/104\n",
            "2/2 [==============================] - 0s 37ms/step - loss: 1.0761e-06 - accuracy: 1.0000 - val_loss: 7.8236 - val_accuracy: 0.8571\n",
            "Epoch 83/104\n",
            "2/2 [==============================] - 0s 37ms/step - loss: 0.4364 - accuracy: 0.9862 - val_loss: 6.3121 - val_accuracy: 0.8571\n",
            "Epoch 84/104\n",
            "2/2 [==============================] - 0s 35ms/step - loss: 0.0373 - accuracy: 0.9931 - val_loss: 4.1621 - val_accuracy: 0.8367\n",
            "Epoch 85/104\n",
            "2/2 [==============================] - 0s 36ms/step - loss: 1.9243 - accuracy: 0.9793 - val_loss: 3.3152 - val_accuracy: 0.9388\n",
            "Epoch 86/104\n",
            "2/2 [==============================] - 0s 37ms/step - loss: 0.3156 - accuracy: 0.9793 - val_loss: 3.7364 - val_accuracy: 0.9184\n",
            "Epoch 87/104\n",
            "2/2 [==============================] - 0s 37ms/step - loss: 0.2435 - accuracy: 0.9862 - val_loss: 3.6332 - val_accuracy: 0.9388\n",
            "Epoch 88/104\n",
            "2/2 [==============================] - 0s 36ms/step - loss: 0.7978 - accuracy: 0.9862 - val_loss: 3.6845 - val_accuracy: 0.9388\n",
            "Epoch 89/104\n",
            "2/2 [==============================] - 0s 39ms/step - loss: 0.6511 - accuracy: 0.9862 - val_loss: 3.2324 - val_accuracy: 0.9592\n",
            "Epoch 90/104\n",
            "2/2 [==============================] - 0s 42ms/step - loss: 0.3527 - accuracy: 0.9793 - val_loss: 2.4083 - val_accuracy: 0.9592\n",
            "Epoch 91/104\n",
            "2/2 [==============================] - 0s 39ms/step - loss: 0.2293 - accuracy: 0.9931 - val_loss: 1.6601 - val_accuracy: 0.9592\n",
            "Epoch 92/104\n",
            "2/2 [==============================] - 0s 37ms/step - loss: 0.3257 - accuracy: 0.9931 - val_loss: 1.3849 - val_accuracy: 0.9592\n",
            "Epoch 93/104\n",
            "2/2 [==============================] - 0s 37ms/step - loss: 0.1663 - accuracy: 0.9862 - val_loss: 1.1090 - val_accuracy: 0.9592\n",
            "Epoch 94/104\n",
            "2/2 [==============================] - 0s 39ms/step - loss: 0.9712 - accuracy: 0.9862 - val_loss: 0.7290 - val_accuracy: 0.9592\n",
            "Epoch 95/104\n",
            "2/2 [==============================] - 0s 37ms/step - loss: 0.3958 - accuracy: 0.9862 - val_loss: 0.5349 - val_accuracy: 0.9592\n",
            "Epoch 96/104\n",
            "2/2 [==============================] - 0s 37ms/step - loss: 0.9845 - accuracy: 0.9862 - val_loss: 0.4027 - val_accuracy: 0.9796\n",
            "Epoch 97/104\n",
            "2/2 [==============================] - 0s 37ms/step - loss: 9.4823e-04 - accuracy: 1.0000 - val_loss: 0.4024 - val_accuracy: 0.9796\n",
            "Epoch 98/104\n",
            "2/2 [==============================] - 0s 38ms/step - loss: 0.3013 - accuracy: 0.9931 - val_loss: 0.2686 - val_accuracy: 0.9796\n",
            "Epoch 99/104\n",
            "2/2 [==============================] - 0s 38ms/step - loss: 0.1683 - accuracy: 0.9931 - val_loss: 0.0594 - val_accuracy: 0.9796\n",
            "Epoch 100/104\n",
            "2/2 [==============================] - 0s 42ms/step - loss: 0.3134 - accuracy: 0.9931 - val_loss: 3.3272e-04 - val_accuracy: 1.0000\n",
            "Epoch 101/104\n",
            "2/2 [==============================] - 0s 37ms/step - loss: 0.2648 - accuracy: 0.9862 - val_loss: 0.0365 - val_accuracy: 0.9796\n",
            "Epoch 102/104\n",
            "2/2 [==============================] - 0s 37ms/step - loss: 0.0000e+00 - accuracy: 1.0000 - val_loss: 2.2841 - val_accuracy: 0.9184\n",
            "Epoch 103/104\n",
            "2/2 [==============================] - 0s 37ms/step - loss: 0.2733 - accuracy: 0.9931 - val_loss: 4.4984 - val_accuracy: 0.8776\n",
            "Epoch 104/104\n",
            "2/2 [==============================] - 0s 36ms/step - loss: 0.9229 - accuracy: 0.9655 - val_loss: 5.6683 - val_accuracy: 0.8776\n"
          ]
        },
        {
          "output_type": "execute_result",
          "data": {
            "text/plain": [
              "<keras.callbacks.History at 0x7f9f3c6cec10>"
            ]
          },
          "metadata": {},
          "execution_count": 83
        }
      ]
    },
    {
      "cell_type": "code",
      "metadata": {
        "id": "2xpZIF8U9jV_",
        "colab": {
          "base_uri": "https://localhost:8080/"
        },
        "outputId": "572612c1-20c5-4652-b932-7349301915d3"
      },
      "source": [
        "loss, acc = model.evaluate(X_train1,y_train1)\n",
        "print(loss,acc)"
      ],
      "execution_count": 84,
      "outputs": [
        {
          "output_type": "stream",
          "name": "stdout",
          "text": [
            "7/7 [==============================] - 0s 5ms/step - loss: 1.4939 - accuracy: 0.9639\n",
            "1.4938747882843018 0.9639175534248352\n"
          ]
        }
      ]
    },
    {
      "cell_type": "code",
      "metadata": {
        "id": "CKzo_84x9jWB",
        "colab": {
          "base_uri": "https://localhost:8080/"
        },
        "outputId": "9855843d-bbcd-4603-8dc2-96dbfbc053d1"
      },
      "source": [
        "y_pred = model.predict(X_test1)"
      ],
      "execution_count": 85,
      "outputs": [
        {
          "output_type": "stream",
          "name": "stdout",
          "text": [
            "1/1 [==============================] - 0s 60ms/step\n"
          ]
        }
      ]
    },
    {
      "cell_type": "code",
      "metadata": {
        "id": "qBU6BjEI9jWD",
        "colab": {
          "base_uri": "https://localhost:8080/"
        },
        "outputId": "dfde8e8b-6e8e-483b-b2c5-687cde78d006"
      },
      "source": [
        "out = []\n",
        "for i in y_pred:\n",
        "  out.append(np.argmax(i))\n",
        "print(out)  "
      ],
      "execution_count": 86,
      "outputs": [
        {
          "output_type": "stream",
          "name": "stdout",
          "text": [
            "[2, 1, 2]\n"
          ]
        }
      ]
    },
    {
      "cell_type": "code",
      "metadata": {
        "id": "SKz7DNjx9jWF"
      },
      "source": [
        "out = lenc.inverse_transform(out)"
      ],
      "execution_count": 87,
      "outputs": []
    },
    {
      "cell_type": "code",
      "metadata": {
        "id": "cG_YGFi19jWH",
        "colab": {
          "base_uri": "https://localhost:8080/"
        },
        "outputId": "833a3f64-50aa-4aff-bdb8-3ba8263cd9e1"
      },
      "source": [
        "a=[]\n",
        "for i in os.listdir('/content/drive/My Drive/Student Projects/test'):\n",
        "    print(i)\n",
        "    a.append(i)"
      ],
      "execution_count": 67,
      "outputs": [
        {
          "output_type": "stream",
          "name": "stdout",
          "text": [
            "Copy of 1ab6f9eb-60b5-48ba-b903-2f9ca3724173 (1).jpeg\n",
            "Copy of 05b2dc2d-457e-45e5-8673-978b103c206e (1).jpeg\n",
            "Copy of 1d6731f2-4b20-4877-b745-6f1a9d46a08a.jpeg\n"
          ]
        }
      ]
    },
    {
      "cell_type": "code",
      "metadata": {
        "id": "Tc6nMfbP9jWJ"
      },
      "source": [
        "import pandas as pd\n",
        "results = {'Labels':out,'Images':a}\n",
        "results = pd.DataFrame(results)"
      ],
      "execution_count": 88,
      "outputs": []
    },
    {
      "cell_type": "code",
      "metadata": {
        "id": "Tvy_Na7x9jWL",
        "colab": {
          "base_uri": "https://localhost:8080/",
          "height": 143
        },
        "outputId": "9beb6346-1eb4-4fbb-bb2e-27191e260172"
      },
      "source": [
        "results.head()"
      ],
      "execution_count": 89,
      "outputs": [
        {
          "output_type": "execute_result",
          "data": {
            "text/plain": [
              "           Labels                                             Images\n",
              "0  PURPLE CHLORIS  Copy of 1ab6f9eb-60b5-48ba-b903-2f9ca3724173 (...\n",
              "1  CROWFOOT GRASS  Copy of 05b2dc2d-457e-45e5-8673-978b103c206e (...\n",
              "2  PURPLE CHLORIS  Copy of 1d6731f2-4b20-4877-b745-6f1a9d46a08a.jpeg"
            ],
            "text/html": [
              "\n",
              "  <div id=\"df-d0043bcb-de24-4520-b710-061970eb0435\">\n",
              "    <div class=\"colab-df-container\">\n",
              "      <div>\n",
              "<style scoped>\n",
              "    .dataframe tbody tr th:only-of-type {\n",
              "        vertical-align: middle;\n",
              "    }\n",
              "\n",
              "    .dataframe tbody tr th {\n",
              "        vertical-align: top;\n",
              "    }\n",
              "\n",
              "    .dataframe thead th {\n",
              "        text-align: right;\n",
              "    }\n",
              "</style>\n",
              "<table border=\"1\" class=\"dataframe\">\n",
              "  <thead>\n",
              "    <tr style=\"text-align: right;\">\n",
              "      <th></th>\n",
              "      <th>Labels</th>\n",
              "      <th>Images</th>\n",
              "    </tr>\n",
              "  </thead>\n",
              "  <tbody>\n",
              "    <tr>\n",
              "      <th>0</th>\n",
              "      <td>PURPLE CHLORIS</td>\n",
              "      <td>Copy of 1ab6f9eb-60b5-48ba-b903-2f9ca3724173 (...</td>\n",
              "    </tr>\n",
              "    <tr>\n",
              "      <th>1</th>\n",
              "      <td>CROWFOOT GRASS</td>\n",
              "      <td>Copy of 05b2dc2d-457e-45e5-8673-978b103c206e (...</td>\n",
              "    </tr>\n",
              "    <tr>\n",
              "      <th>2</th>\n",
              "      <td>PURPLE CHLORIS</td>\n",
              "      <td>Copy of 1d6731f2-4b20-4877-b745-6f1a9d46a08a.jpeg</td>\n",
              "    </tr>\n",
              "  </tbody>\n",
              "</table>\n",
              "</div>\n",
              "      <button class=\"colab-df-convert\" onclick=\"convertToInteractive('df-d0043bcb-de24-4520-b710-061970eb0435')\"\n",
              "              title=\"Convert this dataframe to an interactive table.\"\n",
              "              style=\"display:none;\">\n",
              "        \n",
              "  <svg xmlns=\"http://www.w3.org/2000/svg\" height=\"24px\"viewBox=\"0 0 24 24\"\n",
              "       width=\"24px\">\n",
              "    <path d=\"M0 0h24v24H0V0z\" fill=\"none\"/>\n",
              "    <path d=\"M18.56 5.44l.94 2.06.94-2.06 2.06-.94-2.06-.94-.94-2.06-.94 2.06-2.06.94zm-11 1L8.5 8.5l.94-2.06 2.06-.94-2.06-.94L8.5 2.5l-.94 2.06-2.06.94zm10 10l.94 2.06.94-2.06 2.06-.94-2.06-.94-.94-2.06-.94 2.06-2.06.94z\"/><path d=\"M17.41 7.96l-1.37-1.37c-.4-.4-.92-.59-1.43-.59-.52 0-1.04.2-1.43.59L10.3 9.45l-7.72 7.72c-.78.78-.78 2.05 0 2.83L4 21.41c.39.39.9.59 1.41.59.51 0 1.02-.2 1.41-.59l7.78-7.78 2.81-2.81c.8-.78.8-2.07 0-2.86zM5.41 20L4 18.59l7.72-7.72 1.47 1.35L5.41 20z\"/>\n",
              "  </svg>\n",
              "      </button>\n",
              "      \n",
              "  <style>\n",
              "    .colab-df-container {\n",
              "      display:flex;\n",
              "      flex-wrap:wrap;\n",
              "      gap: 12px;\n",
              "    }\n",
              "\n",
              "    .colab-df-convert {\n",
              "      background-color: #E8F0FE;\n",
              "      border: none;\n",
              "      border-radius: 50%;\n",
              "      cursor: pointer;\n",
              "      display: none;\n",
              "      fill: #1967D2;\n",
              "      height: 32px;\n",
              "      padding: 0 0 0 0;\n",
              "      width: 32px;\n",
              "    }\n",
              "\n",
              "    .colab-df-convert:hover {\n",
              "      background-color: #E2EBFA;\n",
              "      box-shadow: 0px 1px 2px rgba(60, 64, 67, 0.3), 0px 1px 3px 1px rgba(60, 64, 67, 0.15);\n",
              "      fill: #174EA6;\n",
              "    }\n",
              "\n",
              "    [theme=dark] .colab-df-convert {\n",
              "      background-color: #3B4455;\n",
              "      fill: #D2E3FC;\n",
              "    }\n",
              "\n",
              "    [theme=dark] .colab-df-convert:hover {\n",
              "      background-color: #434B5C;\n",
              "      box-shadow: 0px 1px 3px 1px rgba(0, 0, 0, 0.15);\n",
              "      filter: drop-shadow(0px 1px 2px rgba(0, 0, 0, 0.3));\n",
              "      fill: #FFFFFF;\n",
              "    }\n",
              "  </style>\n",
              "\n",
              "      <script>\n",
              "        const buttonEl =\n",
              "          document.querySelector('#df-d0043bcb-de24-4520-b710-061970eb0435 button.colab-df-convert');\n",
              "        buttonEl.style.display =\n",
              "          google.colab.kernel.accessAllowed ? 'block' : 'none';\n",
              "\n",
              "        async function convertToInteractive(key) {\n",
              "          const element = document.querySelector('#df-d0043bcb-de24-4520-b710-061970eb0435');\n",
              "          const dataTable =\n",
              "            await google.colab.kernel.invokeFunction('convertToInteractive',\n",
              "                                                     [key], {});\n",
              "          if (!dataTable) return;\n",
              "\n",
              "          const docLinkHtml = 'Like what you see? Visit the ' +\n",
              "            '<a target=\"_blank\" href=https://colab.research.google.com/notebooks/data_table.ipynb>data table notebook</a>'\n",
              "            + ' to learn more about interactive tables.';\n",
              "          element.innerHTML = '';\n",
              "          dataTable['output_type'] = 'display_data';\n",
              "          await google.colab.output.renderOutput(dataTable, element);\n",
              "          const docLink = document.createElement('div');\n",
              "          docLink.innerHTML = docLinkHtml;\n",
              "          element.appendChild(docLink);\n",
              "        }\n",
              "      </script>\n",
              "    </div>\n",
              "  </div>\n",
              "  "
            ]
          },
          "metadata": {},
          "execution_count": 89
        }
      ]
    },
    {
      "cell_type": "code",
      "metadata": {
        "id": "P1ib-6bz9jWN"
      },
      "source": [
        "results.to_csv('results.csv')"
      ],
      "execution_count": 90,
      "outputs": []
    },
    {
      "cell_type": "code",
      "metadata": {
        "id": "i34g9ETvFo7l"
      },
      "source": [],
      "execution_count": null,
      "outputs": []
    }
  ]
}